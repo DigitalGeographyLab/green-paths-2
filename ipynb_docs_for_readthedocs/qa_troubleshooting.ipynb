{
 "cells": [
  {
   "cell_type": "markdown",
   "metadata": {},
   "source": [
    "# Q&A Troubleshooting\n",
    "\n",
    "```{note}\n",
    "If no relevant info found, open a issue in GP2 github, or contact the developer(s)\n",
    "```\n",
    "\n",
    "Q: Error says that JAVA_HOME is not set\n",
    "---\n",
    "A: Set JAVA_HOME environmental variable to point to where Java is installed\n",
    "\n",
    "***\n",
    "\n",
    "Q: I'm getting error saying: sqlite3.OperationalError: no such table: segment_store\n",
    "---    \n",
    "A: Remember to run preprocessing before running routing or analysing!\n",
    "\n",
    "A: If running all -command, always run once without -uc flag! \n",
    "\n",
    "***\n",
    "\n",
    "Q: Getting error FileNotFoundError: [Errno 2] JVM DLL not found: ...\n",
    "---\n",
    "A: have you activated the conda env in console by: conda activate dgl_gp2\n",
    "\n",
    "***\n",
    "\n",
    "Q: Getting error of some user configuration parameter is invalid\n",
    "---\n",
    "A: double check the data type and the meaning of each user configuration value\n",
    "\n",
    "***\n",
    "\n",
    "Q: Getting error saying: Cannot convert value to Java int\n",
    "---\n",
    "A: The exposure value needs to be able to be converted to Java Integer. If a data is e.g. \"27,7982291667\" try rounding it smaller and using dot (\".\") as the decimal separator, not comma (\",\")!\n",
    "\n"
   ]
  }
 ],
 "metadata": {
  "language_info": {
   "name": "python"
  }
 },
 "nbformat": 4,
 "nbformat_minor": 2
}
