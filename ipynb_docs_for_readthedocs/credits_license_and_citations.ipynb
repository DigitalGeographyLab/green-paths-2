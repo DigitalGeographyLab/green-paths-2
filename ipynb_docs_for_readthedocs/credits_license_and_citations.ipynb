{
 "cells": [
  {
   "cell_type": "markdown",
   "metadata": {},
   "source": [
    "# CREDITS, LICENSE AND CITATIONS\n",
    "\n",
    "\n",
    "\n",
    "\n",
    "\n",
    "\n",
    "## Affiliations\n",
    "\n",
    "### Affiliations\n",
    "\n",
    "https://www.helsinki.fi/en/researchgroups/digital-geography-lab/projects/greentravel\n",
    "\n",
    "https://www.hsy.fi/en/hsy/hsys-projects/project-pages/urban-air-quality-2.0-project/"
   ]
  }
 ],
 "metadata": {
  "language_info": {
   "name": "python"
  }
 },
 "nbformat": 4,
 "nbformat_minor": 2
}
