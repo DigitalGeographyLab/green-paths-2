{
 "cells": [
  {
   "cell_type": "markdown",
   "metadata": {},
   "source": [
    "# CREDITS, LICENSE AND CITATIONS\n",
    "\n",
    "**r5 routing engine**\n",
    "\n",
    "[R5 open source code](https://github.com/conveyal/r5/#methodology) \n",
    "\n",
    "[Conway, M. W., Byrd, A., & van der Linden, M. (2017): Transportation Research Record: Journal of the Transportation Research Board, DOI:10.3141/2653-06](https://journals.sagepub.com/doi/10.3141/2653-06)\n",
    "\n",
    "[Conway, M. W., Byrd, A., & Van Eggermond, M. (2018): Journal of Transport and Land Use, DOI:10.5198/jtlu.2018.1074](https://www.jtlu.org/index.php/jtlu/article/view/1074)\n",
    "\n",
    "[Conway, M. W. & Stewart, A. F. (2019): International Journal of Geographical Information Science, DOI:10.1080/13658816.2019.1605075](https://www.tandfonline.com/doi/full/10.1080/13658816.2019.1605075)\n",
    "\n",
    "\n",
    "**r5py**\n",
    "\n",
    "[Open source r5py codes](https://github.com/r5py/r5py)\n",
    "\n",
    "[Fink, C., Klumpenhouwer, W., Saraiva, M., Pereira, R., & Tenkanen, H. (2022): R5py: Rapid Realistic Routing with R5 in Python, DOI:10.5281/ZENODO.7060437](https://zenodo.org/records/7060438)\n",
    "\n",
    "\n",
    "**Green Paths (1.0)**\n",
    "\n",
    "[Helle J, Poom A, Willberg E, Toivonen T 2023 The Green Paths Route Planning Software for Exposure-Optimised Active Travel. Journal of Open Research Software, DOI: 10.5334/jors.400](https://www.researchgate.net/publication/374714949_The_Green_Paths_Route_Planning_Software_for_Exposure-Optimised_Active_Travel) \n",
    "[Open source Green Paths code](https://github.com/DigitalGeographyLab/green-paths)\n",
    "[Online GUI](https://green-paths.web.app/?map=streets)\n",
    "[Blog post](https://blogs.helsinki.fi/digital-geography/2020/07/14/quiet-paths-for-daily-travel-developing-online-navigation-and-exposure-assessment-tool/#more-464)\n",
    "[Full thesis J.Helle](https://helda.helsinki.fi/items/abff1b7a-5f18-4113-9f41-f6dd53ff7612)\n",
    "\n",
    "\n",
    "## Affiliations\n",
    "\n",
    "[Digital Geography Lab](https://www.helsinki.fi/en/researchgroups/digital-geography-lab)\n",
    "\n",
    "[Urban Air Quality 2.0 (UAQ2.0)](https://www.hsy.fi/en/hsy/hsys-projects/project-pages/urban-air-quality-2.0-project/)\n",
    "\n",
    "[GREENTRAVEL project 2023-2027](https://www.helsinki.fi/en/researchgroups/digital-geography-lab/projects/greentravel)\n",
    "\n",
    "<div class=\"center_logos\">\n",
    "  <img src=\"_static/img/UAQ2.0_Logo_Eng.png\" alt=\"urban air quality project 2.0 logo\">\n",
    "  <img src=\"_static/img/hy_logo.jpg\" alt=\"affiliates logos\">\n",
    "</div>\n",
    "\n",
    "## License\n",
    "\n",
    "TODO add license and .md"
   ]
  }
 ],
 "metadata": {
  "language_info": {
   "name": "python"
  }
 },
 "nbformat": 4,
 "nbformat_minor": 2
}
