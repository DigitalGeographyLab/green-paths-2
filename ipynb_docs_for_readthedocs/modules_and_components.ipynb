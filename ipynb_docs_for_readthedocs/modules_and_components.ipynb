{
 "cells": [
  {
   "cell_type": "markdown",
   "metadata": {},
   "source": [
    "# Green Paths 2.0 Framework\n",
    "\n",
    ".. image:: _static/img/general_flowchart_legit_final.png\n",
    "   :alt: A map showing Health index created from the Helsinki metropolitan area\n",
    "   :width: 750px\n",
    "   :height: 500px\n",
    "   :align: center\n",
    "   :scale: 75\n",
    "\n",
    "\n",
    "\n",
    "## Preprocessing\n",
    ".. image:: _static/img/preprocessing_legit_2drawio.png\n",
    "   :alt: A map showing Health index created from the Helsinki metropolitan area\n",
    "   :width: 750px\n",
    "   :height: 500px\n",
    "   :align: center\n",
    "   :scale: 75\n",
    "\n",
    "\n",
    "## Routing\n",
    ".. image:: _static/img/routing_flowchart.drawio.png\n",
    "   :alt: A map showing Health index created from the Helsinki metropolitan area\n",
    "   :width: 750px\n",
    "   :height: 500px\n",
    "   :align: center\n",
    "   :scale: 75\n",
    "\n",
    "## Analysing\n",
    "<p align=\"center\">\n",
    "  <img src=\"_static/img/analysing_flowchart.drawio.png\" alt=\"A map showing Health index created from the Helsinki metropolitan area\" width=\"750\" height=\"500\">\n",
    "</p>\n",
    "\n",
    "![A map showing Health index created from the Helsinki metropolitan area](_static/img/analysing_flowchart.drawio.png)\n",
    "\n",
    "..."
   ]
  }
 ],
 "metadata": {
  "language_info": {
   "name": "python"
  }
 },
 "nbformat": 4,
 "nbformat_minor": 2
}
