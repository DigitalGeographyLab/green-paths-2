{
 "cells": [
  {
   "cell_type": "markdown",
   "metadata": {},
   "source": [
    "# DATA REQUIREMENTS\n",
    "\n",
    "Green Paths 2.0 supports multiple raster and vector data formats.\n",
    "\n",
    "Data sources are filled in the user configurations file, and the data need to be on the users local machine.\n",
    "See the instructions on how to fill the user configurations in the user configurations section.\n",
    "\n",
    "```{important}\n",
    "The data should have numerical values (float) for the exposure calculations.\n",
    "```\n",
    "\n",
    "## Supported Exposure Data File Types\n",
    "\n",
    "| Type   | File Extension           |\n",
    "|--------|---------------------------|\n",
    "| Vector | .gpkg                    |\n",
    "| Vector | .shp                     |\n",
    "| Vector | .geojson / .topojson     |\n",
    "| Vector | .gdb                     |\n",
    "| Vector | .kml                     |\n",
    "| Vector | .tab / .mif              |\n",
    "| Raster | .tif / .tiff             |\n",
    "| Raster | .jp2 / .j2k              |\n",
    "| Raster | .nc                      |\n",
    "| Raster | .h5 / .hdf               |\n",
    "| Raster | .asc                     |\n",
    "| Raster | .mbtiles                 |\n",
    "| Raster | .grib / .grb             |\n",
    "| Raster | .rpf / .cadrg / .cib     |\n",
    "\n",
    "\n",
    "\n",
    "```{warning}\n",
    "Not all filetypes are yet properly tested. Tested types: shp, tif, gpkg, nc, and gml.\n",
    "```\n",
    "\n",
    "## OSM PBF\n",
    "\n",
    "A OSM PBF file is needed, and it can be downloaded from various online sources, see e.g.:\n",
    "\n",
    "- [Bbbike.org](https://extract.bbbike.org/)\n",
    "- [Geofabrik.de](https://download.geofabrik.de/) (street network should have as small extent as possible, so cropping might be required)\n",
    "\n"
   ]
  }
 ],
 "metadata": {
  "language_info": {
   "name": "python"
  }
 },
 "nbformat": 4,
 "nbformat_minor": 2
}
