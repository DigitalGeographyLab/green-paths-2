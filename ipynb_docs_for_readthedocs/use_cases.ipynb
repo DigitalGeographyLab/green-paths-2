{
 "cells": [
  {
   "cell_type": "markdown",
   "metadata": {},
   "source": [
    "## Why use Green Paths 2.0\n",
    "\n",
    "\n",
    "# Use Cases\n",
    "\n",
    "Green Paths 2.0 is designed to provide excessive amount of flexibility, which demands expertise from the users.\n",
    "\n",
    "GP2 supports use cases of:\n",
    "\n",
    "- one-to-one single routes\n",
    "- one-to-many routes with single origin and multiple destinations\n",
    "- many-to-many masscalculations from all origins to all destinations\n",
    "\n",
    "```{hint}\n",
    "A general version for basic users can be done by hosting a configured version of Green Paths 2.0 online.\n",
    "```\n",
    "\n",
    "## Where \n",
    "\n",
    "Anywhere there is some reasonable exposure data available, and OSM PBF street network file.\n",
    "\n",
    "\n",
    "## One-to-one\n",
    "\n",
    "## One-to-many\n",
    "\n",
    "## Many-to-many\n",
    " "
   ]
  }
 ],
 "metadata": {
  "language_info": {
   "name": "python"
  }
 },
 "nbformat": 4,
 "nbformat_minor": 2
}
