{
 "cells": [
  {
   "cell_type": "markdown",
   "metadata": {},
   "source": [
    "# Use Cases\n",
    "\n",
    "Green Paths 2.0 is designed to provide excessive amount of flexibility, which demands expertise from the users.\n",
    "\n",
    "GP2 supports use cases of:\n",
    "\n",
    "- one-to-one single routes\n",
    "- one-to-many routes with single origin and multiple destinations\n",
    "- many-to-many masscalculations from all origins to all destinations\n",
    "\n",
    "```{hint}\n",
    "A general version for basic users could be done by hosting a configured version of Green Paths 2.0 online.\n",
    "```\n",
    "\n",
    "## Where can I use GP2\n",
    "\n",
    "Anywhere there is some reasonable exposure data available, and OSM PBF street network file.\n",
    "Technically the exposure data can be anything, as long as it is georeferenced vector/raster, has numerical values and has enough coverage.\n",
    "\n",
    "## One-to-one\n",
    "For routing single paths. The input OD files should both have only 1 point each.\n",
    "\n",
    "## One-to-many\n",
    "For routing from one origin to multiple destinations or vice versa. The input OD files should one have single point and other mutliple points.\n",
    "\n",
    "## Many-to-many\n",
    "For routing form all origin points to all destinations. The input OD files should both have mutliple points.\n",
    "\n",
    "```{tip}\n",
    "This could be used in planning or research for creating raster / matrices of exposures by e.g. grouping result origin ID's and calculating averages.\n",
    "```\n",
    "\n",
    " "
   ]
  }
 ],
 "metadata": {
  "language_info": {
   "name": "python"
  }
 },
 "nbformat": 4,
 "nbformat_minor": 2
}
