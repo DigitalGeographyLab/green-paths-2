{
 "cells": [
  {
   "cell_type": "markdown",
   "metadata": {},
   "source": [
    "# CLI USER INTERFACE\n",
    "\n",
    "Green Paths 2 is operated via CLI (terminal/cmd). User can run modules separately or all together.\n",
    "\n",
    "All of the arguments have to be run with prefix of:\n",
    "\n",
    "```\n",
    "inv gp2 -a <COMMAND>\n",
    "```\n",
    "\n",
    "```{attention}\n",
    "Replace the **<COMMAND>** with the actual command and possible arguments.\n",
    "```\n",
    "\n",
    "**Supported commands**\n",
    "\n",
    "Command line interface commands. Some of the commands need, and some accept arguments. These arguments can be e.g., a list of db table names for clear_db_cache , a file path for the OSM segmenter, or a use cache flag for all pipelines. See detailed descriptions from the software documentation.\n",
    "\n",
    "| Command             | Explanation                                       |\n",
    "|---------------------|---------------------------------------------------|\n",
    "| `all`               | Run all pipelines.                                |\n",
    "| `preprocessing`     | Run preprocessing pipeline separately.            |\n",
    "| `routing`           | Run routing pipeline separately. Needs cache.     |\n",
    "| `analysing`         | Run analysing pipeline separately. Needs cache.   |\n",
    "| `segment_osm_network` | Segment an OSM PBF from a file path.            |\n",
    "| `validate`          | Validate user configuration YAML file.            |\n",
    "| `describe`          | Describe user data sources.                       |\n",
    "| `clear_db_cache`    | Clear db (cache) tables by names.                 |\n",
    "\n",
    "\n",
    "**Supported arguments for commands**\n",
    "\n",
    "The arguments commands support. Use either short or long argument flag, not both.\n",
    "\n",
    "\n",
    "\n",
    "**all**\n",
    "- **-uc, --use_exposure_cache**\n",
    "  - If flag is given, skip preprocessing pipeline and use cached exposure store data if found from db. If this flag is used, and no data found from db, will force preprocessing pipeline."
   ]
  }
 ],
 "metadata": {
  "language_info": {
   "name": "python"
  }
 },
 "nbformat": 4,
 "nbformat_minor": 2
}
